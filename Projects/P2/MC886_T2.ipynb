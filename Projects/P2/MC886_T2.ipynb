{
  "cells": [
    {
      "cell_type": "markdown",
      "id": "6d487d4a-eb77-49fa-b6c9-20a7713b4076",
      "metadata": {
        "id": "6d487d4a-eb77-49fa-b6c9-20a7713b4076",
        "tags": []
      },
      "source": [
        "# Group information\n",
        "\n",
        "Names:\n",
        "\n",
        "\n",
        "RAs:"
      ]
    },
    {
      "cell_type": "markdown",
      "id": "c15d405f-6ecb-4b9c-b788-4f7f8ba12b09",
      "metadata": {
        "id": "c15d405f-6ecb-4b9c-b788-4f7f8ba12b09",
        "tags": []
      },
      "source": [
        "# **Machine Learning MC886/MO444 - Task \\#2**: Model Selection for classification\n"
      ]
    },
    {
      "cell_type": "markdown",
      "id": "648e846a-c820-4e99-a868-2678b00e36c1",
      "metadata": {
        "id": "648e846a-c820-4e99-a868-2678b00e36c1",
        "tags": []
      },
      "source": [
        "### Objective:\n",
        "\n",
        "To explore **Model Selection** techniques to select the best model and hyperparameters for a classification task."
      ]
    },
    {
      "cell_type": "markdown",
      "id": "d32be33a-2107-4380-80ff-0bae77bb0d96",
      "metadata": {
        "id": "d32be33a-2107-4380-80ff-0bae77bb0d96",
        "jp-MarkdownHeadingCollapsed": true,
        "tags": []
      },
      "source": [
        "#### **Dataset: Online Shoppers Purchasing Intention**\n",
        "\n",
        "The dataset contains sessions of access to a website. Each user can have only one record for each year, in the case were the users were repeated.\n",
        "\n",
        "Our classification objective is to determine when a given session will end with the user purchasing something.\n",
        "This information is present in the \"Revenue\" column, which is our target.\n",
        "\n",
        "Features and the corresponding descriptions:\n",
        "\n",
        "- **Administrative**: Amount of times the user visited this type of page.\n",
        "- **Administrative_Duration**: Time spent by the user visiting this type of page.\n",
        "- **Informational**:  Amount of times the user visited this type of page.\n",
        "- **Informational_Duration**: Time spent by the user visiting this type of page.\n",
        "- **ProductRelated**:  Amount of times the user visited this type of page.\n",
        "- **ProductRelated_Duration**: Time spent by the user visiting this type of page.\n",
        "- **BounceRates**: The bounce rate is the percentage of visitors who enter the site from that page and then leave without triggering any other analytics action. This field contains the average bounce rate of the pages visited.\n",
        "- **ExitRates**: The Exit rate is the percentage of visitors that exited the site on a specific page. This field contains the average bounce rate of the pages visited.\n",
        "- **PageValues**: The page value is calculated by google analytics based on the values spent after visiting this page. This field contains the average page values of the pages visited.\n",
        "- **SpecialDay**: The \"Special Day\" feature indicates the closeness of the site visiting time to a specific special day (e.g. Mother’s Day, Valentine's Day) in which the sessions are more likely to be finalized with the transaction. The value of this attribute is determined by considering the dynamics of e-commerce such as the duration between the order date and delivery date. For example, for Valentine’s day, this value takes a nonzero value between February 2 and February 12, zero before and after this date unless it is close to another special day, and its maximum value of 1 on February 8.\n",
        "- **Month**: Month of the visit.\n",
        "- **OperatingSystems**: The operating system used by the visitor. This field is coded as integer categories.\n",
        "- **Browser**: The browser used by the visitor. This field is coded as integer categories.\n",
        "- **Region**: The region where the user visited the site. This field is coded as integer categories.\n",
        "- **TrafficType**: Traffic source by which the visitor has arrived at the Web site (e.g., banner, SMS, direct). This field is coded as integer categories.\n",
        "- **VisitorType**: Visitor type as \"New Visitor\", \"Returning Visitor\", and \"Other\"\n",
        "- **Weekend**: Boolean value indicating whether the date of the visit is a weekend day.\n",
        "- **Revenue**: The target value, indicating where the visitor bought something (1) or did not bought anything (0).\n"
      ]
    },
    {
      "cell_type": "markdown",
      "id": "f72b830c-1077-41c6-aad5-e2943ba29da4",
      "metadata": {
        "id": "f72b830c-1077-41c6-aad5-e2943ba29da4"
      },
      "source": [
        "**How to load the dataset**\n",
        "\n",
        "Dataset folder link: [here](https://drive.google.com/drive/folders/14uiy_7xMq5LOqODBzbIJLD4Vq0E9XD5v?usp=sharing)\n",
        "\n",
        "You should open the google drive folder, click on the name of the folder on the top and click on \"organize\" => \"add shortcut\".<br/>\n",
        "Then you should choose where to add the shortcut. The recommendation is to add on \"MyDrive\", so you don't need to change the dataset path used below.\n",
        "\n",
        "Then you should run the cell below and authorize google drive access.\n",
        "\n",
        "This is the same folder as in the previous task, you can check your google drive to be sure if you need to copy it again.\n",
        "\n",
        "*If you want to run the notebook locally, just download the folder and change the path below to the location of the folder in your local environment.*"
      ]
    },
    {
      "cell_type": "code",
      "execution_count": null,
      "id": "a18ad021-6d11-4c10-bde1-d920bbade527",
      "metadata": {
        "id": "a18ad021-6d11-4c10-bde1-d920bbade527"
      },
      "outputs": [],
      "source": [
        "# link with google drive\n",
        "from google.colab import drive\n",
        "import pandas as pd\n",
        "drive.mount('/content/gdrive', force_remount=True)\n",
        "\n",
        "# load dataset from google drive\n",
        "path = \"gdrive/MyDrive/MC886 - Datasets/\" + \"online_shoppers_intention_mod.csv\" # Change this to be the correct path if you added the dataset in a different location\n",
        "df = pd.read_csv(path)"
      ]
    },
    {
      "cell_type": "markdown",
      "id": "02770f4d-3425-458c-8de0-0968b5ac89c8",
      "metadata": {
        "id": "02770f4d-3425-458c-8de0-0968b5ac89c8",
        "jp-MarkdownHeadingCollapsed": true,
        "tags": []
      },
      "source": [
        "### **Data analysis and preprocessing** (1.5 points)\n",
        "\n",
        "In this section, you should explore the dataset. Remember to avoid using data that you should not have in training.\n",
        "\n",
        "You can plot graphs with features that you think are important to visualize the relation with the target(`Revenue`). You can also use boxplot graphs to understand feature distributions. There are no minimal/maximum requirements in what graphs you should use, explore just what you think can help in understanding the dataset.\n",
        "\n",
        "As in the previous task, preprocess the data, transform the categorical features with OneHotEncoding, and remember to scale continuous features to be in a similar scale between each other.\n"
      ]
    },
    {
      "cell_type": "code",
      "execution_count": null,
      "id": "9b5d4634-6ae8-4cd2-8aea-7f4d2f29ecaa",
      "metadata": {
        "id": "9b5d4634-6ae8-4cd2-8aea-7f4d2f29ecaa"
      },
      "outputs": [],
      "source": []
    },
    {
      "cell_type": "markdown",
      "id": "1e9969ce-ab47-4933-87a5-c6815e8eb121",
      "metadata": {
        "jp-MarkdownHeadingCollapsed": true,
        "tags": [],
        "id": "1e9969ce-ab47-4933-87a5-c6815e8eb121"
      },
      "source": [
        "### **Metric selection** (0.5 point)\n",
        "\n",
        "As we're working with unbalanced data, the accuracy metric is not a good indicator of performance. Choose a metric and explain why that metric is a good fit for the online shopping intention problem. You don't need to implement the metric, only discuss it.\n",
        "\n",
        "*Tip: Some common metrics are [balanced accuracy](https://scikit-learn.org/stable/modules/generated/sklearn.metrics.balanced_accuracy_score.html), [recall](https://scikit-learn.org/stable/modules/generated/sklearn.metrics.recall_score.html), [precision](https://scikit-learn.org/stable/modules/generated/sklearn.metrics.precision_score.html), [f1-score](https://scikit-learn.org/stable/modules/generated/sklearn.metrics.f1_score.html) and [AUC](https://scikit-learn.org/stable/modules/generated/sklearn.metrics.roc_auc_score.html)*."
      ]
    },
    {
      "cell_type": "code",
      "execution_count": null,
      "id": "2cc91ebe-fba0-4224-8fa5-992b8a9601e7",
      "metadata": {
        "id": "2cc91ebe-fba0-4224-8fa5-992b8a9601e7"
      },
      "outputs": [],
      "source": []
    },
    {
      "cell_type": "markdown",
      "id": "7a17e1b6-abee-488b-b171-77ff68e18ff9",
      "metadata": {
        "jp-MarkdownHeadingCollapsed": true,
        "tags": [],
        "id": "7a17e1b6-abee-488b-b171-77ff68e18ff9"
      },
      "source": [
        "### **Feature selection** (2 points)\n",
        "\n",
        "As seen in class, there are different ways to select which features to use in a machine learning model.\n",
        "\n",
        "You should implement the \"Forward stepwise selection\" technique to find the best `p` features to be used in this task according to that method.\n",
        "\n",
        "Use the [Logistic regression](https://scikit-learn.org/stable/modules/generated/sklearn.linear_model.LogisticRegression.html) model and the **K-fold cross-validation** as optimality criterion. You can use the Scikit-learn library, which has helper functions to create the [K-fold](https://scikit-learn.org/stable/modules/generated/sklearn.model_selection.KFold.html) logic and the model. The metric used in K-fold should be the one chosen in the previous section!\n",
        "\n",
        "Remember to save a new dataframe only with the selected features for the next steps! Also, use only training data on K-fold validation, keeping a test set separated to estimate the performance of the model on unseen data on the final part of the whole task."
      ]
    },
    {
      "cell_type": "code",
      "execution_count": null,
      "id": "5811eef9-ef1c-4076-b739-77d68e3db465",
      "metadata": {
        "id": "5811eef9-ef1c-4076-b739-77d68e3db465"
      },
      "outputs": [],
      "source": []
    },
    {
      "cell_type": "markdown",
      "id": "e3063991-d5d7-434b-a879-0e1d98d260b5",
      "metadata": {
        "id": "e3063991-d5d7-434b-a879-0e1d98d260b5"
      },
      "source": []
    },
    {
      "cell_type": "markdown",
      "id": "07dce3da-0ecc-4a6f-a096-ef4cf38138d9",
      "metadata": {
        "id": "07dce3da-0ecc-4a6f-a096-ef4cf38138d9",
        "jp-MarkdownHeadingCollapsed": true,
        "tags": []
      },
      "source": [
        "### **Model selection** (4 points)\n",
        "\n",
        "This is the main section of the task. Using the features selected in the previous section, you should do a [**Grid search** with K-fold cross validation](https://scikit-learn.org/stable/modules/generated/sklearn.model_selection.GridSearchCV.html) to select the best classification model and its hyperparameters for this task. You can do it by hand if you want (you will need to do a nested loop for each tested parameter to have all combinations).\n",
        "\n",
        "Remember to use only training data on K-fold validation, keeping a test set separated to estimate the performance of the model on unseen data.\n",
        "\n",
        "You should train and validate the following models:\n",
        "- [Logistic regression](https://scikit-learn.org/stable/modules/generated/sklearn.linear_model.LogisticRegression.html)\n",
        "- [Ridge Classifier](https://scikit-learn.org/stable/modules/generated/sklearn.linear_model.RidgeClassifier.html)\n",
        "- [Lasso](https://scikit-learn.org/stable/modules/generated/sklearn.linear_model.Lasso.html)\n",
        "\n",
        "As the Lasso model do not predict classes, you would need to convert the results to classes, and execute a GridSearch by hand. Alternatively, you can use only the Logistic regression model and test the regularization parameters ('l1' for Lasso regularization and 'l2' for Ridge) and show the best hyperparemeters when using each regularization. Remember to change the \"C\" parameter (the smaller the C, the stronger is the regularization).\n",
        "\n",
        "Explore the documentation above and select which hyperparameters to vary, besides the regularization ones.\n",
        "\n",
        "Also, you should test the polynomial transformation to find possible nonlinear relations between the features of the dataset. **Do not** use values above \"3\" for the `degree` of the polynomial transformation, as the number of features increases exponentially.\n",
        "\n",
        "In short, you should use GridSearchCV (that uses K-fold internally) to get the best hyperparameters for the model using different regularization parameters, while also testing the polynomial transformation.\n",
        "\n",
        "*Note: you will need to use the `fit` method more than once to test the different dataset transformations. Choose wisely which hyperparameters to test, as the GridSearch will test all combinations and can take very a long time to finish.*"
      ]
    },
    {
      "cell_type": "code",
      "execution_count": null,
      "id": "5ed19c1b-d82d-4528-858c-1508ddbf500b",
      "metadata": {
        "id": "5ed19c1b-d82d-4528-858c-1508ddbf500b"
      },
      "outputs": [],
      "source": []
    },
    {
      "cell_type": "code",
      "execution_count": null,
      "id": "8c1ec7f1-8536-41ae-8658-afcc0bb69754",
      "metadata": {
        "id": "8c1ec7f1-8536-41ae-8658-afcc0bb69754"
      },
      "outputs": [],
      "source": []
    },
    {
      "cell_type": "code",
      "execution_count": null,
      "id": "294cbb36-437c-4204-a7f7-e01bf616f312",
      "metadata": {
        "id": "294cbb36-437c-4204-a7f7-e01bf616f312"
      },
      "outputs": [],
      "source": []
    },
    {
      "cell_type": "markdown",
      "id": "a6effc30-51f3-4acd-a3a2-211bec8e6865",
      "metadata": {
        "id": "a6effc30-51f3-4acd-a3a2-211bec8e6865",
        "tags": []
      },
      "source": [
        "#### Discussion of key points\n",
        "\n",
        "- What was the best model hyperparemeters, according to cross validation?\n",
        "- The models that use regularization were able to outperform the Logistic Regression without it? Explain why.\n"
      ]
    },
    {
      "cell_type": "markdown",
      "id": "2c2e193a-9e60-4d91-86bb-096ae36ba6bb",
      "metadata": {
        "jp-MarkdownHeadingCollapsed": true,
        "tags": [],
        "id": "2c2e193a-9e60-4d91-86bb-096ae36ba6bb"
      },
      "source": [
        "### Threshold testing (1 point)\n",
        "\n",
        "The three models trained in the previous session can return the probabilities of a sample being of the positive class.\n",
        "The default threshold used to convert the results to the desired 0 or 1 output is `0.5`.\n",
        "\n",
        "Use the K-fold cross validation to test different thresholds with the best models trained in the previous section (remember to train the best models with all train data and the best hyperparameters).\n",
        "\n",
        "*If the model does not output probabilities, look for the `predic_proba` method*."
      ]
    },
    {
      "cell_type": "code",
      "execution_count": null,
      "id": "a74e39b7-ba63-4796-8806-9a332df8c761",
      "metadata": {
        "id": "a74e39b7-ba63-4796-8806-9a332df8c761"
      },
      "outputs": [],
      "source": []
    },
    {
      "cell_type": "code",
      "execution_count": null,
      "id": "bed71002-3c8b-426f-b9c3-2112aff99d97",
      "metadata": {
        "id": "bed71002-3c8b-426f-b9c3-2112aff99d97"
      },
      "outputs": [],
      "source": []
    },
    {
      "cell_type": "markdown",
      "id": "077049b4-f1de-4542-a7c2-864e7025274a",
      "metadata": {
        "jp-MarkdownHeadingCollapsed": true,
        "tags": [],
        "id": "077049b4-f1de-4542-a7c2-864e7025274a"
      },
      "source": [
        "### Visualizing/interpreting weights (0.5 point)\n",
        "\n",
        "As we're dealing with models that apply regularization terms, it's relatively easy to verify those results on the coefficient weights of the trained models.\n",
        "\n",
        "Use the function below to visualize the weights of the final models.</br>\n",
        "Also, train the three models again using *all* original features, and use the function below to compare how the weight distribution behaves on each of the models*.\n",
        "\n",
        "\\* *If no features were removed in previous sections, just compare the models with and without regularization*"
      ]
    },
    {
      "cell_type": "code",
      "execution_count": null,
      "id": "8284c967-db80-404d-bc74-097199f120e2",
      "metadata": {
        "id": "8284c967-db80-404d-bc74-097199f120e2"
      },
      "outputs": [],
      "source": [
        "## You don't need to change this cell!\n",
        "import plotly.express as px\n",
        "\n",
        "def plot_weights(model, columns):\n",
        "  '''\n",
        "  Plot the weights of the model for each column in an interative graph.\n",
        "  \"model\" should be an sklearn model or follow the same interface, having the \"coef_\" attribute with the weights.\n",
        "\n",
        "  -----\n",
        "  Examples:\n",
        "  plot_weights(classifier, X.columns)\n",
        "  # for polynomial transformations\n",
        "  plot_weights(classifier, poly.get_feature_names_out(X.columns))\n",
        "\n",
        "  '''\n",
        "  if not hasattr(model, 'coef_'):\n",
        "    print(\"Invalid model!\")\n",
        "    return\n",
        "\n",
        "  df_plot = pd.DataFrame(columns=['weight','columns'])\n",
        "  df_plot['columns']= columns\n",
        "\n",
        "  if len(columns) == len(model.coef_):\n",
        "    df_plot['weight']=model.coef_\n",
        "  else:\n",
        "    df_plot['weight']=model.coef_[0]\n",
        "\n",
        "  fig = px.bar(df_plot, x='columns', y='weight', color='weight')\n",
        "  fig.show()"
      ]
    },
    {
      "cell_type": "code",
      "execution_count": null,
      "id": "ac5e133c-a484-476f-9e60-8b7c63b9af5c",
      "metadata": {
        "id": "ac5e133c-a484-476f-9e60-8b7c63b9af5c"
      },
      "outputs": [],
      "source": [
        "# Plot the weights of your models!"
      ]
    },
    {
      "cell_type": "code",
      "execution_count": null,
      "id": "8f7b6eeb-6677-4dfd-94e5-075e0c0302b1",
      "metadata": {
        "id": "8f7b6eeb-6677-4dfd-94e5-075e0c0302b1"
      },
      "outputs": [],
      "source": []
    },
    {
      "cell_type": "markdown",
      "id": "7f9986c5-4ea1-45ea-9283-d82fe30a046b",
      "metadata": {
        "id": "7f9986c5-4ea1-45ea-9283-d82fe30a046b",
        "tags": []
      },
      "source": [
        "#### Discussion of key points\n",
        "\n",
        "- What conclusions can you have when looking at the different graphs?\n"
      ]
    },
    {
      "cell_type": "code",
      "execution_count": null,
      "id": "0bbeeccb-4f4d-43ef-93a9-a42cd8357ea3",
      "metadata": {
        "id": "0bbeeccb-4f4d-43ef-93a9-a42cd8357ea3"
      },
      "outputs": [],
      "source": []
    },
    {
      "cell_type": "code",
      "execution_count": null,
      "id": "c35115a3-ce76-464f-9c00-e419485af9f1",
      "metadata": {
        "id": "c35115a3-ce76-464f-9c00-e419485af9f1"
      },
      "outputs": [],
      "source": [
        "hasattr(obj, 'attribute')"
      ]
    },
    {
      "cell_type": "markdown",
      "id": "d102f9af-2476-4cf5-8b45-f43df78ffd11",
      "metadata": {
        "tags": [],
        "id": "d102f9af-2476-4cf5-8b45-f43df78ffd11"
      },
      "source": [
        "### Testing (0.5 point)\n",
        "\n",
        "Finally, choose your **Best** model in validation, test it and plot the normalized confusion matrix."
      ]
    },
    {
      "cell_type": "code",
      "execution_count": null,
      "id": "7b443d3a-e0d8-43b0-8442-089d103a6e51",
      "metadata": {
        "id": "7b443d3a-e0d8-43b0-8442-089d103a6e51"
      },
      "outputs": [],
      "source": []
    },
    {
      "cell_type": "code",
      "execution_count": null,
      "id": "ff9805b7-5c4d-4df5-b2ea-73388f32e7c9",
      "metadata": {
        "id": "ff9805b7-5c4d-4df5-b2ea-73388f32e7c9"
      },
      "outputs": [],
      "source": []
    },
    {
      "cell_type": "code",
      "execution_count": null,
      "id": "7694d383-b755-45a7-9f95-53c0ee433970",
      "metadata": {
        "id": "7694d383-b755-45a7-9f95-53c0ee433970"
      },
      "outputs": [],
      "source": []
    },
    {
      "cell_type": "markdown",
      "id": "37fb3bdd-0e21-422a-a161-17150241f989",
      "metadata": {
        "id": "37fb3bdd-0e21-422a-a161-17150241f989",
        "tags": []
      },
      "source": [
        "## Deadline\n",
        "\n",
        "Thursday, May 2, 11:59 pm.\n",
        "\n",
        "Penalty policy for late submission: You are not encouraged to submit your assignment after due date. However, in case you do, your grade will be penalized as follows:\n",
        "- May ~(3)~ 6 11:59 pm : grade * 0.75\n",
        "- May ~(4)~ 7, 11:59 pm : grade * 0.5\n",
        "- May ~(5)~ 8, 11:59 pm : grade * 0.25\n"
      ]
    },
    {
      "cell_type": "markdown",
      "id": "6b478147-33c3-4491-8d9b-677de65af878",
      "metadata": {
        "id": "6b478147-33c3-4491-8d9b-677de65af878",
        "tags": []
      },
      "source": [
        "## Submission\n",
        "\n",
        "On Google Classroom, submit your Jupyter Notebook (in Portuguese or English) or Google Colaboratory link (remember to share it!).\n",
        "\n",
        "**This activity is NOT individual, it must be done in pairs (two-person group).**\n",
        "\n",
        "Only one individual should deliver the notebook."
      ]
    }
  ],
  "metadata": {
    "kernelspec": {
      "display_name": "Python 3 (ipykernel)",
      "language": "python",
      "name": "python3"
    },
    "language_info": {
      "codemirror_mode": {
        "name": "ipython",
        "version": 3
      },
      "file_extension": ".py",
      "mimetype": "text/x-python",
      "name": "python",
      "nbconvert_exporter": "python",
      "pygments_lexer": "ipython3",
      "version": "3.10.10"
    },
    "colab": {
      "provenance": []
    }
  },
  "nbformat": 4,
  "nbformat_minor": 5
}